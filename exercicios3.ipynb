{
  "nbformat": 4,
  "nbformat_minor": 0,
  "metadata": {
    "colab": {
      "provenance": [],
      "authorship_tag": "ABX9TyNlvlSeyhe66LtEUojYDy+F",
      "include_colab_link": true
    },
    "kernelspec": {
      "name": "python3",
      "display_name": "Python 3"
    },
    "language_info": {
      "name": "python"
    }
  },
  "cells": [
    {
      "cell_type": "markdown",
      "metadata": {
        "id": "view-in-github",
        "colab_type": "text"
      },
      "source": [
        "<a href=\"https://colab.research.google.com/github/Marie935/GIT.EXERCICIOS/blob/main/exercicios3.ipynb\" target=\"_parent\"><img src=\"https://colab.research.google.com/assets/colab-badge.svg\" alt=\"Open In Colab\"/></a>"
      ]
    },
    {
      "cell_type": "code",
      "source": [
        "def calcular_idade(ano_nascimento):\n",
        "    ano_atual = 2022\n",
        "    return ano_atual - ano_nascimento\n",
        "\n",
        "while True:\n",
        "    try:\n",
        "        nome = input(\"Digite o seu nome completo: \")\n",
        "        ano_nascimento = int(input(\"Digite o seu ano de nascimento (entre 1922 e 2021): \"))\n",
        "\n",
        "        if 1922 <= ano_nascimento <= 2021:\n",
        "            idade = calcular_idade(ano_nascimento)\n",
        "            print(f\"{nome}, você completou ou completará {idade} anos em 2022.\")\n",
        "            break\n",
        "        else:\n",
        "            print(\"Ano inválido! Por favor, digite um ano entre 1922 e 2021.\")\n",
        "    except ValueError:\n",
        "        print(\"Entrada inválida! Por favor, digite um número.\")\n"
      ],
      "metadata": {
        "id": "HQ0sVRCKQkJr"
      },
      "execution_count": null,
      "outputs": []
    }
  ]
}